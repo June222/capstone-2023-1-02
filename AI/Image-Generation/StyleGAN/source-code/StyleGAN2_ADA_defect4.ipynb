{
  "nbformat": 4,
  "nbformat_minor": 0,
  "metadata": {
    "colab": {
      "provenance": [],
      "gpuType": "T4"
    },
    "kernelspec": {
      "name": "python3",
      "display_name": "Python 3"
    },
    "language_info": {
      "name": "python"
    },
    "accelerator": "GPU"
  },
  "cells": [
    {
      "cell_type": "markdown",
      "source": [
        "## StyleGAN2 - ADA\n",
        "- 4번 결함 학습 및 fakeimage생성\n",
        "\n",
        "- 참고1 : StyleGAN2-ADA — Official PyTorch implementation\n",
        "https://github.com/NVlabs/stylegan2-ada-pytorch\n",
        "- 참고2 : 강콩콩 https://velog.io/@gtpgg1013/GAN-%EB%95%8C%EB%AC%B8%EC%9D%B4%EC%95%BC-Generative-Models-%ED%95%99%EC%8A%B5%EA%B8%B0-1"
      ],
      "metadata": {
        "id": "xUtNp6DEAG6n"
      }
    },
    {
      "cell_type": "code",
      "source": [
        "!python -V\n",
        "\n",
        "\n",
        "import torch\n",
        "\n",
        "print(torch.__version__)"
      ],
      "metadata": {
        "colab": {
          "base_uri": "https://localhost:8080/"
        },
        "id": "vToBhLugTeve",
        "outputId": "5990170a-ead6-4570-eaa1-3a1f121ec726"
      },
      "execution_count": null,
      "outputs": [
        {
          "output_type": "stream",
          "name": "stdout",
          "text": [
            "Python 3.10.12\n",
            "2.1.0+cu118\n"
          ]
        }
      ]
    },
    {
      "cell_type": "code",
      "source": [
        "from google.colab import drive\n",
        "drive.mount('/content/drive')"
      ],
      "metadata": {
        "id": "3Uu0haccibkI",
        "outputId": "e4f8641f-696f-4a95-a1ad-10f6568211f5",
        "colab": {
          "base_uri": "https://localhost:8080/"
        }
      },
      "execution_count": null,
      "outputs": [
        {
          "output_type": "stream",
          "name": "stdout",
          "text": [
            "Mounted at /content/drive\n"
          ]
        }
      ]
    },
    {
      "cell_type": "code",
      "source": [
        "!nvidia-smi"
      ],
      "metadata": {
        "colab": {
          "base_uri": "https://localhost:8080/"
        },
        "id": "0EM_Tg_n8gjf",
        "outputId": "85279f19-6792-4875-d5db-2a3d4998eddb"
      },
      "execution_count": null,
      "outputs": [
        {
          "output_type": "stream",
          "name": "stdout",
          "text": [
            "Tue Oct 31 04:05:23 2023       \n",
            "+-----------------------------------------------------------------------------+\n",
            "| NVIDIA-SMI 525.105.17   Driver Version: 525.105.17   CUDA Version: 12.0     |\n",
            "|-------------------------------+----------------------+----------------------+\n",
            "| GPU  Name        Persistence-M| Bus-Id        Disp.A | Volatile Uncorr. ECC |\n",
            "| Fan  Temp  Perf  Pwr:Usage/Cap|         Memory-Usage | GPU-Util  Compute M. |\n",
            "|                               |                      |               MIG M. |\n",
            "|===============================+======================+======================|\n",
            "|   0  Tesla T4            Off  | 00000000:00:04.0 Off |                    0 |\n",
            "| N/A   52C    P8    10W /  70W |      0MiB / 15360MiB |      0%      Default |\n",
            "|                               |                      |                  N/A |\n",
            "+-------------------------------+----------------------+----------------------+\n",
            "                                                                               \n",
            "+-----------------------------------------------------------------------------+\n",
            "| Processes:                                                                  |\n",
            "|  GPU   GI   CI        PID   Type   Process name                  GPU Memory |\n",
            "|        ID   ID                                                   Usage      |\n",
            "|=============================================================================|\n",
            "|  No running processes found                                                 |\n",
            "+-----------------------------------------------------------------------------+\n"
          ]
        }
      ]
    },
    {
      "cell_type": "code",
      "source": [
        "!nvcc --version"
      ],
      "metadata": {
        "colab": {
          "base_uri": "https://localhost:8080/"
        },
        "id": "96blqFoZKcsq",
        "outputId": "d3fb984f-95c8-46a7-8e68-a043d5d45078"
      },
      "execution_count": null,
      "outputs": [
        {
          "output_type": "stream",
          "name": "stdout",
          "text": [
            "nvcc: NVIDIA (R) Cuda compiler driver\n",
            "Copyright (c) 2005-2022 NVIDIA Corporation\n",
            "Built on Wed_Sep_21_10:33:58_PDT_2022\n",
            "Cuda compilation tools, release 11.8, V11.8.89\n",
            "Build cuda_11.8.r11.8/compiler.31833905_0\n"
          ]
        }
      ]
    },
    {
      "cell_type": "markdown",
      "source": [
        "# Preparing\n",
        "1. Gdrive Mount\n",
        "2. git clone"
      ],
      "metadata": {
        "id": "1HkvPIaR7qp2"
      }
    },
    {
      "cell_type": "code",
      "source": [
        "#!pip install torch==1.8.0+cu111 torchvision==0.9.0+cu111 torchaudio==0.8.0 -f https://download.pytorch.org/whl/torch_stable.html\n",
        "#!pip install torch==1.13.0+cu116 torchvision==0.14.0+cu116 torchaudio==0.13.0 --extra-index-url https://download.pytorch.org/whl/cu116\n",
        "#!pip install torch==1.7.1+cu116 torchvision==0.8.2+cu116 torchaudio==0.7.2 --extra-index-url https://download.pytorch.org/whl/cu116\n",
        "#!pip install torch==1.7.1+cu110 torchvision==0.8.2+cu110 torchaudio==0.7.2 -f https://download.pytorch.org/whl/torch_stable.html\n",
        "#!pip install torch==1.7.1 torchvision==0.8.2 torchaudio==0.7.2\n",
        "#!pip install torch==1.7.1+cu110 torchvision==0.8.2+cu110 torchaudio==0.7.2 -f https://download.pytorch.org/whl/torch_stable.html\n",
        "#!pip install torch==1.7.1 torchvision==0.8.2 torchaudio==0.7.2\n",
        "\n",
        "!pip install ninja"
      ],
      "metadata": {
        "colab": {
          "base_uri": "https://localhost:8080/"
        },
        "id": "1aze9mf1Jy8e",
        "outputId": "93fcbfd8-e1dc-4cb0-b29c-70e9bace4f5b"
      },
      "execution_count": null,
      "outputs": [
        {
          "output_type": "stream",
          "name": "stdout",
          "text": [
            "Collecting ninja\n",
            "  Downloading ninja-1.11.1.1-py2.py3-none-manylinux1_x86_64.manylinux_2_5_x86_64.whl (307 kB)\n",
            "\u001b[?25l     \u001b[90m━━━━━━━━━━━━━━━━━━━━━━━━━━━━━━━━━━━━━━━━\u001b[0m \u001b[32m0.0/307.2 kB\u001b[0m \u001b[31m?\u001b[0m eta \u001b[36m-:--:--\u001b[0m\r\u001b[2K     \u001b[91m━━━━━━━━━━━━━━━━━━\u001b[0m\u001b[91m╸\u001b[0m\u001b[90m━━━━━━━━━━━━━━━━━━━━━\u001b[0m \u001b[32m143.4/307.2 kB\u001b[0m \u001b[31m4.4 MB/s\u001b[0m eta \u001b[36m0:00:01\u001b[0m\r\u001b[2K     \u001b[90m━━━━━━━━━━━━━━━━━━━━━━━━━━━━━━━━━━━━━━━━\u001b[0m \u001b[32m307.2/307.2 kB\u001b[0m \u001b[31m5.2 MB/s\u001b[0m eta \u001b[36m0:00:00\u001b[0m\n",
            "\u001b[?25hInstalling collected packages: ninja\n",
            "Successfully installed ninja-1.11.1.1\n"
          ]
        }
      ]
    },
    {
      "cell_type": "markdown",
      "source": [
        "# Train"
      ],
      "metadata": {
        "id": "KCpkQIJd8TEV"
      }
    },
    {
      "cell_type": "code",
      "source": [
        "# model_save_dir : google drive에 model 저장 path\n",
        "# train_data_dir : 학습에 사용할 data path (directory, not zip)\n",
        "model_save_dir = '/content/drive/MyDrive/stylegan/stylegan2-ada-pytorch-main/stylegan_model'# '/content/drive/MyDrive/GAN_때문이야/model/20221005'\n",
        "train_data_dir = '/content/drive/MyDrive/stylegan/stylegan2-ada-pytorch-main/defect4_cropped' #'/content/drive/MyDrive/GAN_때문이야/dataset/4'\n"
      ],
      "metadata": {
        "id": "WgitUzqh8HyX"
      },
      "execution_count": null,
      "outputs": []
    },
    {
      "cell_type": "code",
      "source": [
        "ls"
      ],
      "metadata": {
        "id": "OJDj4Aa4h-GD",
        "outputId": "60e3ea16-8664-4678-fad8-571181ae325d",
        "colab": {
          "base_uri": "https://localhost:8080/"
        }
      },
      "execution_count": null,
      "outputs": [
        {
          "output_type": "stream",
          "name": "stdout",
          "text": [
            "calc_metrics.py   defect4_cropped.zip  docker_run.sh  LICENSE.txt   README.md        \u001b[0m\u001b[01;34mtorch_utils\u001b[0m/\n",
            "\u001b[01;34mdatasets\u001b[0m/         defect4.zip          \u001b[01;34mdocs\u001b[0m/          \u001b[01;34mmetrics\u001b[0m/      stylegan         \u001b[01;34mtrain_dataset\u001b[0m/\n",
            "dataset_tool.py   \u001b[01;34mdnnlib\u001b[0m/              generate.py    projector.py  \u001b[01;34mstylegan_model\u001b[0m/  \u001b[01;34mtraining\u001b[0m/\n",
            "\u001b[01;34mdefect4_cropped\u001b[0m/  Dockerfile           legacy.py      \u001b[01;34m__pycache__\u001b[0m/  style_mixing.py  train.py\n"
          ]
        }
      ]
    },
    {
      "cell_type": "code",
      "source": [
        "import os\n",
        "\n",
        "os.chdir('/content/drive/MyDrive/stylegan/stylegan2-ada-pytorch-main')\n",
        "os.getcwd()"
      ],
      "metadata": {
        "colab": {
          "base_uri": "https://localhost:8080/",
          "height": 53
        },
        "id": "wqET_Luv9Gio",
        "outputId": "fe86337b-5667-4765-a7ea-1cda00593611"
      },
      "execution_count": null,
      "outputs": [
        {
          "output_type": "execute_result",
          "data": {
            "text/plain": [
              "'/content/drive/.shortcut-targets-by-id/1YAxQ9GyveLoNgPvh21dJgpE9ZwXna24h/stylegan/stylegan2-ada-pytorch-main'"
            ],
            "application/vnd.google.colaboratory.intrinsic+json": {
              "type": "string"
            }
          },
          "metadata": {},
          "execution_count": 6
        }
      ]
    },
    {
      "cell_type": "code",
      "source": [
        "import os\n",
        "\n",
        "# Path\n",
        "train_data_dir = '/content/drive/MyDrive/stylegan/stylegan2-ada-pytorch-main/defect4_cropped'\n",
        "os.environ['train_data_dir'] = train_data_dir\n",
        "\n",
        "# zip\n",
        "!python dataset_tool.py --source=$train_data_dir --dest=/content/drive/MyDrive/stylegan/stylegan2-ada-pytorch-main/defect4.zip"
      ],
      "metadata": {
        "id": "AGltFmrC_1em"
      },
      "execution_count": null,
      "outputs": []
    },
    {
      "cell_type": "code",
      "source": [
        "os.environ['model_save_dir'] = model_save_dir\n",
        "\n",
        "!python train.py --outdir=$model_save_dir --data=/content/drive/MyDrive/stylegan/stylegan2-ada-pytorch-main/defect4.zip --cfg=auto --gpus=1 --kimg=100 --snap=25 --workers=2"
      ],
      "metadata": {
        "id": "raQM2J-79TuF"
      },
      "execution_count": null,
      "outputs": []
    },
    {
      "cell_type": "markdown",
      "source": [
        "# Inference"
      ],
      "metadata": {
        "id": "fqPCIHUUnjOM"
      }
    },
    {
      "cell_type": "code",
      "source": [
        "# inference test\n",
        "!python generate.py --outdir=out --trunc=1 --seeds=85,265,297,849 \\\n",
        "    --network=https://nvlabs-fi-cdn.nvidia.com/stylegan2-ada-pytorch/pretrained/ffhq.pkl"
      ],
      "metadata": {
        "colab": {
          "base_uri": "https://localhost:8080/"
        },
        "id": "orAPfDxrIyiO",
        "outputId": "04b7b021-c223-45b8-9dd1-d2f993e7a832"
      },
      "execution_count": null,
      "outputs": [
        {
          "output_type": "stream",
          "name": "stdout",
          "text": [
            "Loading networks from \"https://nvlabs-fi-cdn.nvidia.com/stylegan2-ada-pytorch/pretrained/ffhq.pkl\"...\n",
            "Downloading https://nvlabs-fi-cdn.nvidia.com/stylegan2-ada-pytorch/pretrained/ffhq.pkl ... done\n",
            "Generating image for seed 85 (0/4) ...\n",
            "Setting up PyTorch plugin \"bias_act_plugin\"... Done.\n",
            "Setting up PyTorch plugin \"upfirdn2d_plugin\"... Done.\n",
            "Generating image for seed 265 (1/4) ...\n",
            "Generating image for seed 297 (2/4) ...\n",
            "Generating image for seed 849 (3/4) ...\n"
          ]
        }
      ]
    },
    {
      "cell_type": "code",
      "source": [
        "import os\n",
        "\n",
        "# str(list(range(10000)))[1:-1].replace(' ', '')\n",
        "\n",
        "os.environ['sample_nums'] = str(list(range(100)))[1:-1].replace(' ', '')"
      ],
      "metadata": {
        "id": "CFn0IXSR8ToI"
      },
      "execution_count": null,
      "outputs": []
    },
    {
      "cell_type": "code",
      "source": [
        "# 참고 : https://velog.io/@gtpgg1013/GAN-%EB%95%8C%EB%AC%B8%EC%9D%B4%EC%95%BC-Generative-Models-%ED%95%99%EC%8A%B5%EA%B8%B0-1\n",
        "# 수정 필요사항\n",
        "# generate.py : line 121\n",
        "# \t\tPIL.Image.fromarray(img[0].cpu().numpy(), 'RGB').save(f'{outdir}/seed{seed:04d}.png') # 주석처리\n",
        "\n",
        "# 아래 내용으로 수정 (indent 주의)\n",
        "        if img.shape[-1] == 3:\n",
        "            PIL.Image.fromarray(img[0].cpu().numpy(), 'RGB').save(f'{outdir}/seed{seed:04d}.png')\n",
        "        else:\n",
        "            PIL.Image.fromarray(np.squeeze(img[0][:-2].cpu().numpy()), 'L').save(f'{outdir}/seed{seed:04d}.png')"
      ],
      "metadata": {
        "id": "O9f93BeG0sEn"
      },
      "execution_count": null,
      "outputs": []
    },
    {
      "cell_type": "code",
      "source": [
        "# random seed 1~10000 까지 data generation\n",
        "# trunc는 truncation trick의 계수, 0~1 : 0으로 지정하면 모두 같은 얼굴 생성 / 1로 지정하면 모두 다른 이미지 생성\n",
        "\n",
        "!python generate.py --outdir=/content/drive/MyDrive/stylegan/stylegan2-ada-pytorch-main/stylegan_model/00003-defect4-auto1-kimg100/fakeimages --trunc=0.9 --seeds=$sample_nums --network=/content/drive/MyDrive/stylegan/stylegan2-ada-pytorch-main/stylegan_model/00003-defect4-auto1-kimg100/network-snapshot-000100.pkl"
      ],
      "metadata": {
        "colab": {
          "base_uri": "https://localhost:8080/"
        },
        "id": "IdAabPms1zE3",
        "outputId": "399b2719-d639-4435-be0b-281af4a2db5a"
      },
      "execution_count": null,
      "outputs": [
        {
          "output_type": "stream",
          "name": "stdout",
          "text": [
            "Loading networks from \"/content/drive/MyDrive/stylegan/stylegan2-ada-pytorch-main/stylegan_model/00003-defect4-auto1-kimg100/network-snapshot-000100.pkl\"...\n",
            "Generating image for seed 0 (0/100) ...\n",
            "Setting up PyTorch plugin \"bias_act_plugin\"... Done.\n",
            "Setting up PyTorch plugin \"upfirdn2d_plugin\"... Done.\n",
            "Generating image for seed 1 (1/100) ...\n",
            "Generating image for seed 2 (2/100) ...\n",
            "Generating image for seed 3 (3/100) ...\n",
            "Generating image for seed 4 (4/100) ...\n",
            "Generating image for seed 5 (5/100) ...\n",
            "Generating image for seed 6 (6/100) ...\n",
            "Generating image for seed 7 (7/100) ...\n",
            "Generating image for seed 8 (8/100) ...\n",
            "Generating image for seed 9 (9/100) ...\n",
            "Generating image for seed 10 (10/100) ...\n",
            "Generating image for seed 11 (11/100) ...\n",
            "Generating image for seed 12 (12/100) ...\n",
            "Generating image for seed 13 (13/100) ...\n",
            "Generating image for seed 14 (14/100) ...\n",
            "Generating image for seed 15 (15/100) ...\n",
            "Generating image for seed 16 (16/100) ...\n",
            "Generating image for seed 17 (17/100) ...\n",
            "Generating image for seed 18 (18/100) ...\n",
            "Generating image for seed 19 (19/100) ...\n",
            "Generating image for seed 20 (20/100) ...\n",
            "Generating image for seed 21 (21/100) ...\n",
            "Generating image for seed 22 (22/100) ...\n",
            "Generating image for seed 23 (23/100) ...\n",
            "Generating image for seed 24 (24/100) ...\n",
            "Generating image for seed 25 (25/100) ...\n",
            "Generating image for seed 26 (26/100) ...\n",
            "Generating image for seed 27 (27/100) ...\n",
            "Generating image for seed 28 (28/100) ...\n",
            "Generating image for seed 29 (29/100) ...\n",
            "Generating image for seed 30 (30/100) ...\n",
            "Generating image for seed 31 (31/100) ...\n",
            "Generating image for seed 32 (32/100) ...\n",
            "Generating image for seed 33 (33/100) ...\n",
            "Generating image for seed 34 (34/100) ...\n",
            "Generating image for seed 35 (35/100) ...\n",
            "Generating image for seed 36 (36/100) ...\n",
            "Generating image for seed 37 (37/100) ...\n",
            "Generating image for seed 38 (38/100) ...\n",
            "Generating image for seed 39 (39/100) ...\n",
            "Generating image for seed 40 (40/100) ...\n",
            "Generating image for seed 41 (41/100) ...\n",
            "Generating image for seed 42 (42/100) ...\n",
            "Generating image for seed 43 (43/100) ...\n",
            "Generating image for seed 44 (44/100) ...\n",
            "Generating image for seed 45 (45/100) ...\n",
            "Generating image for seed 46 (46/100) ...\n",
            "Generating image for seed 47 (47/100) ...\n",
            "Generating image for seed 48 (48/100) ...\n",
            "Generating image for seed 49 (49/100) ...\n",
            "Generating image for seed 50 (50/100) ...\n",
            "Generating image for seed 51 (51/100) ...\n",
            "Generating image for seed 52 (52/100) ...\n",
            "Generating image for seed 53 (53/100) ...\n",
            "Generating image for seed 54 (54/100) ...\n",
            "Generating image for seed 55 (55/100) ...\n",
            "Generating image for seed 56 (56/100) ...\n",
            "Generating image for seed 57 (57/100) ...\n",
            "Generating image for seed 58 (58/100) ...\n",
            "Generating image for seed 59 (59/100) ...\n",
            "Generating image for seed 60 (60/100) ...\n",
            "Generating image for seed 61 (61/100) ...\n",
            "Generating image for seed 62 (62/100) ...\n",
            "Generating image for seed 63 (63/100) ...\n",
            "Generating image for seed 64 (64/100) ...\n",
            "Generating image for seed 65 (65/100) ...\n",
            "Generating image for seed 66 (66/100) ...\n",
            "Generating image for seed 67 (67/100) ...\n",
            "Generating image for seed 68 (68/100) ...\n",
            "Generating image for seed 69 (69/100) ...\n",
            "Generating image for seed 70 (70/100) ...\n",
            "Generating image for seed 71 (71/100) ...\n",
            "Generating image for seed 72 (72/100) ...\n",
            "Generating image for seed 73 (73/100) ...\n",
            "Generating image for seed 74 (74/100) ...\n",
            "Generating image for seed 75 (75/100) ...\n",
            "Generating image for seed 76 (76/100) ...\n",
            "Generating image for seed 77 (77/100) ...\n",
            "Generating image for seed 78 (78/100) ...\n",
            "Generating image for seed 79 (79/100) ...\n",
            "Generating image for seed 80 (80/100) ...\n",
            "Generating image for seed 81 (81/100) ...\n",
            "Generating image for seed 82 (82/100) ...\n",
            "Generating image for seed 83 (83/100) ...\n",
            "Generating image for seed 84 (84/100) ...\n",
            "Generating image for seed 85 (85/100) ...\n",
            "Generating image for seed 86 (86/100) ...\n",
            "Generating image for seed 87 (87/100) ...\n",
            "Generating image for seed 88 (88/100) ...\n",
            "Generating image for seed 89 (89/100) ...\n",
            "Generating image for seed 90 (90/100) ...\n",
            "Generating image for seed 91 (91/100) ...\n",
            "Generating image for seed 92 (92/100) ...\n",
            "Generating image for seed 93 (93/100) ...\n",
            "Generating image for seed 94 (94/100) ...\n",
            "Generating image for seed 95 (95/100) ...\n",
            "Generating image for seed 96 (96/100) ...\n",
            "Generating image for seed 97 (97/100) ...\n",
            "Generating image for seed 98 (98/100) ...\n",
            "Generating image for seed 99 (99/100) ...\n"
          ]
        }
      ]
    },
    {
      "cell_type": "code",
      "source": [],
      "metadata": {
        "id": "CblrrLCavFLg"
      },
      "execution_count": null,
      "outputs": []
    }
  ]
}