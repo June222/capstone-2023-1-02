{
  "nbformat": 4,
  "nbformat_minor": 0,
  "metadata": {
    "colab": {
      "provenance": [],
      "gpuType": "T4"
    },
    "kernelspec": {
      "name": "python3",
      "display_name": "Python 3"
    },
    "language_info": {
      "name": "python"
    },
    "accelerator": "GPU"
  },
  "cells": [
    {
      "cell_type": "markdown",
      "source": [
        "## StyleGAN2 - ADA\n",
        "- 2번 결함 학습 및 fakeimage생성\n",
        "\n",
        "- 참고1 : StyleGAN2-ADA — Official PyTorch implementation\n",
        "https://github.com/NVlabs/stylegan2-ada-pytorch\n",
        "- 참고2 : 강콩콩 https://velog.io/@gtpgg1013/GAN-%EB%95%8C%EB%AC%B8%EC%9D%B4%EC%95%BC-Generative-Models-%ED%95%99%EC%8A%B5%EA%B8%B0-1"
      ],
      "metadata": {
        "id": "xUtNp6DEAG6n"
      }
    },
    {
      "cell_type": "code",
      "source": [
        "!python -V\n",
        "\n",
        "\n",
        "import torch\n",
        "\n",
        "print(torch.__version__)"
      ],
      "metadata": {
        "colab": {
          "base_uri": "https://localhost:8080/"
        },
        "id": "vToBhLugTeve",
        "outputId": "5990170a-ead6-4570-eaa1-3a1f121ec726"
      },
      "execution_count": null,
      "outputs": [
        {
          "output_type": "stream",
          "name": "stdout",
          "text": [
            "Python 3.10.12\n",
            "2.1.0+cu118\n"
          ]
        }
      ]
    },
    {
      "cell_type": "code",
      "source": [
        "from google.colab import drive\n",
        "drive.mount('/content/drive')"
      ],
      "metadata": {
        "id": "3Uu0haccibkI",
        "outputId": "e4f8641f-696f-4a95-a1ad-10f6568211f5",
        "colab": {
          "base_uri": "https://localhost:8080/"
        }
      },
      "execution_count": null,
      "outputs": [
        {
          "output_type": "stream",
          "name": "stdout",
          "text": [
            "Mounted at /content/drive\n"
          ]
        }
      ]
    },
    {
      "cell_type": "code",
      "source": [
        "!nvidia-smi"
      ],
      "metadata": {
        "colab": {
          "base_uri": "https://localhost:8080/"
        },
        "id": "0EM_Tg_n8gjf",
        "outputId": "85279f19-6792-4875-d5db-2a3d4998eddb"
      },
      "execution_count": null,
      "outputs": [
        {
          "output_type": "stream",
          "name": "stdout",
          "text": [
            "Tue Oct 31 04:05:23 2023       \n",
            "+-----------------------------------------------------------------------------+\n",
            "| NVIDIA-SMI 525.105.17   Driver Version: 525.105.17   CUDA Version: 12.0     |\n",
            "|-------------------------------+----------------------+----------------------+\n",
            "| GPU  Name        Persistence-M| Bus-Id        Disp.A | Volatile Uncorr. ECC |\n",
            "| Fan  Temp  Perf  Pwr:Usage/Cap|         Memory-Usage | GPU-Util  Compute M. |\n",
            "|                               |                      |               MIG M. |\n",
            "|===============================+======================+======================|\n",
            "|   0  Tesla T4            Off  | 00000000:00:04.0 Off |                    0 |\n",
            "| N/A   52C    P8    10W /  70W |      0MiB / 15360MiB |      0%      Default |\n",
            "|                               |                      |                  N/A |\n",
            "+-------------------------------+----------------------+----------------------+\n",
            "                                                                               \n",
            "+-----------------------------------------------------------------------------+\n",
            "| Processes:                                                                  |\n",
            "|  GPU   GI   CI        PID   Type   Process name                  GPU Memory |\n",
            "|        ID   ID                                                   Usage      |\n",
            "|=============================================================================|\n",
            "|  No running processes found                                                 |\n",
            "+-----------------------------------------------------------------------------+\n"
          ]
        }
      ]
    },
    {
      "cell_type": "markdown",
      "source": [
        "# Preparing"
      ],
      "metadata": {
        "id": "1HkvPIaR7qp2"
      }
    },
    {
      "cell_type": "code",
      "source": [
        "#!pip install torch==1.8.0+cu111 torchvision==0.9.0+cu111 torchaudio==0.8.0 -f https://download.pytorch.org/whl/torch_stable.html\n",
        "#!pip install torch==1.13.0+cu116 torchvision==0.14.0+cu116 torchaudio==0.13.0 --extra-index-url https://download.pytorch.org/whl/cu116\n",
        "#!pip install torch==1.7.1+cu116 torchvision==0.8.2+cu116 torchaudio==0.7.2 --extra-index-url https://download.pytorch.org/whl/cu116\n",
        "#!pip install torch==1.7.1+cu110 torchvision==0.8.2+cu110 torchaudio==0.7.2 -f https://download.pytorch.org/whl/torch_stable.html\n",
        "#!pip install torch==1.7.1 torchvision==0.8.2 torchaudio==0.7.2\n",
        "#!pip install torch==1.7.1+cu110 torchvision==0.8.2+cu110 torchaudio==0.7.2 -f https://download.pytorch.org/whl/torch_stable.html\n",
        "#!pip install torch==1.7.1 torchvision==0.8.2 torchaudio==0.7.2\n",
        "\n",
        "!pip install ninja"
      ],
      "metadata": {
        "colab": {
          "base_uri": "https://localhost:8080/"
        },
        "id": "1aze9mf1Jy8e",
        "outputId": "93fcbfd8-e1dc-4cb0-b29c-70e9bace4f5b"
      },
      "execution_count": null,
      "outputs": [
        {
          "output_type": "stream",
          "name": "stdout",
          "text": [
            "Collecting ninja\n",
            "  Downloading ninja-1.11.1.1-py2.py3-none-manylinux1_x86_64.manylinux_2_5_x86_64.whl (307 kB)\n",
            "\u001b[?25l     \u001b[90m━━━━━━━━━━━━━━━━━━━━━━━━━━━━━━━━━━━━━━━━\u001b[0m \u001b[32m0.0/307.2 kB\u001b[0m \u001b[31m?\u001b[0m eta \u001b[36m-:--:--\u001b[0m\r\u001b[2K     \u001b[91m━━━━━━━━━━━━━━━━━━\u001b[0m\u001b[91m╸\u001b[0m\u001b[90m━━━━━━━━━━━━━━━━━━━━━\u001b[0m \u001b[32m143.4/307.2 kB\u001b[0m \u001b[31m4.4 MB/s\u001b[0m eta \u001b[36m0:00:01\u001b[0m\r\u001b[2K     \u001b[90m━━━━━━━━━━━━━━━━━━━━━━━━━━━━━━━━━━━━━━━━\u001b[0m \u001b[32m307.2/307.2 kB\u001b[0m \u001b[31m5.2 MB/s\u001b[0m eta \u001b[36m0:00:00\u001b[0m\n",
            "\u001b[?25hInstalling collected packages: ninja\n",
            "Successfully installed ninja-1.11.1.1\n"
          ]
        }
      ]
    },
    {
      "cell_type": "markdown",
      "source": [
        "# Train"
      ],
      "metadata": {
        "id": "KCpkQIJd8TEV"
      }
    },
    {
      "cell_type": "code",
      "source": [
        "# model_save_dir : google drive에 model 저장 path\n",
        "# train_data_dir : 학습에 사용할 data path (directory, not zip)\n",
        "model_save_dir = '/content/drive/MyDrive/stylegan/stylegan2-ada-pytorch-main/stylegan_model'\n",
        "train_data_dir = '/content/drive/MyDrive/stylegan/stylegan2-ada-pytorch-main/defect2_cropped'\n"
      ],
      "metadata": {
        "id": "WgitUzqh8HyX"
      },
      "execution_count": null,
      "outputs": []
    },
    {
      "cell_type": "code",
      "source": [
        "ls"
      ],
      "metadata": {
        "id": "OJDj4Aa4h-GD",
        "outputId": "60e3ea16-8664-4678-fad8-571181ae325d",
        "colab": {
          "base_uri": "https://localhost:8080/"
        }
      },
      "execution_count": null,
      "outputs": [
        {
          "output_type": "stream",
          "name": "stdout",
          "text": [
            "calc_metrics.py   defect4_cropped.zip  docker_run.sh  LICENSE.txt   README.md        \u001b[0m\u001b[01;34mtorch_utils\u001b[0m/\n",
            "\u001b[01;34mdatasets\u001b[0m/         defect4.zip          \u001b[01;34mdocs\u001b[0m/          \u001b[01;34mmetrics\u001b[0m/      stylegan         \u001b[01;34mtrain_dataset\u001b[0m/\n",
            "dataset_tool.py   \u001b[01;34mdnnlib\u001b[0m/              generate.py    projector.py  \u001b[01;34mstylegan_model\u001b[0m/  \u001b[01;34mtraining\u001b[0m/\n",
            "\u001b[01;34mdefect4_cropped\u001b[0m/  Dockerfile           legacy.py      \u001b[01;34m__pycache__\u001b[0m/  style_mixing.py  train.py\n"
          ]
        }
      ]
    },
    {
      "cell_type": "code",
      "source": [
        "import os\n",
        "\n",
        "os.chdir('/content/drive/MyDrive/stylegan/stylegan2-ada-pytorch-main')\n",
        "os.getcwd()"
      ],
      "metadata": {
        "colab": {
          "base_uri": "https://localhost:8080/",
          "height": 53
        },
        "id": "wqET_Luv9Gio",
        "outputId": "fe86337b-5667-4765-a7ea-1cda00593611"
      },
      "execution_count": null,
      "outputs": [
        {
          "output_type": "execute_result",
          "data": {
            "text/plain": [
              "'/content/drive/.shortcut-targets-by-id/1YAxQ9GyveLoNgPvh21dJgpE9ZwXna24h/stylegan/stylegan2-ada-pytorch-main'"
            ],
            "application/vnd.google.colaboratory.intrinsic+json": {
              "type": "string"
            }
          },
          "metadata": {},
          "execution_count": 6
        }
      ]
    },
    {
      "cell_type": "code",
      "source": [
        "import os\n",
        "\n",
        "# Path\n",
        "train_data_dir = '/content/drive/MyDrive/stylegan/stylegan2-ada-pytorch-main/defect2_cropped'\n",
        "os.environ['train_data_dir'] = train_data_dir\n",
        "\n",
        "# zip\n",
        "!python dataset_tool.py --source=$train_data_dir --dest=/content/drive/MyDrive/stylegan/stylegan2-ada-pytorch-main/defect2.zip"
      ],
      "metadata": {
        "id": "AGltFmrC_1em"
      },
      "execution_count": null,
      "outputs": []
    },
    {
      "cell_type": "code",
      "source": [
        "os.environ['model_save_dir'] = model_save_dir\n",
        "\n",
        "!python train.py --outdir=$model_save_dir --data=/content/drive/MyDrive/stylegan/stylegan2-ada-pytorch-main/defect2.zip --cfg=auto --gpus=1 --kimg=100 --snap=25 --workers=2"
      ],
      "metadata": {
        "id": "raQM2J-79TuF"
      },
      "execution_count": null,
      "outputs": []
    },
    {
      "cell_type": "markdown",
      "source": [
        "# Inference"
      ],
      "metadata": {
        "id": "fqPCIHUUnjOM"
      }
    },
    {
      "cell_type": "code",
      "source": [
        "import os\n",
        "\n",
        "# str(list(range(10000)))[1:-1].replace(' ', '')\n",
        "\n",
        "os.environ['sample_nums'] = str(list(range(100)))[1:-1].replace(' ', '')"
      ],
      "metadata": {
        "id": "CFn0IXSR8ToI"
      },
      "execution_count": null,
      "outputs": []
    },
    {
      "cell_type": "code",
      "source": [
        "# 참고 : https://velog.io/@gtpgg1013/GAN-%EB%95%8C%EB%AC%B8%EC%9D%B4%EC%95%BC-Generative-Models-%ED%95%99%EC%8A%B5%EA%B8%B0-1\n",
        "# 수정 필요사항\n",
        "# generate.py : line 121\n",
        "# \t\tPIL.Image.fromarray(img[0].cpu().numpy(), 'RGB').save(f'{outdir}/seed{seed:04d}.png') # 주석처리\n",
        "\n",
        "# 아래 내용으로 수정 (indent 주의)\n",
        "        if img.shape[-1] == 3:\n",
        "            PIL.Image.fromarray(img[0].cpu().numpy(), 'RGB').save(f'{outdir}/seed{seed:04d}.png')\n",
        "        else:\n",
        "            PIL.Image.fromarray(np.squeeze(img[0][:-2].cpu().numpy()), 'L').save(f'{outdir}/seed{seed:04d}.png')"
      ],
      "metadata": {
        "id": "O9f93BeG0sEn"
      },
      "execution_count": null,
      "outputs": []
    },
    {
      "cell_type": "code",
      "source": [
        "# random seed 1~10000 까지 data generation\n",
        "# trunc는 truncation trick의 계수, 0~1 : 0으로 지정하면 모두 같은 얼굴 생성 / 1로 지정하면 모두 다른 이미지 생성\n",
        "\n",
        "!python generate.py --outdir=/content/drive/MyDrive/stylegan/stylegan2-ada-pytorch-main/stylegan_model/00004-defect2-auto1-kimg100/fakeimages --trunc=0.9 --seeds=$sample_nums --network=/content/drive/MyDrive/stylegan/stylegan2-ada-pytorch-main/stylegan_model/00004-defect2-auto1-kimg100/network-snapshot-000100.pkl"
      ],
      "metadata": {
        "id": "CblrrLCavFLg"
      },
      "execution_count": null,
      "outputs": []
    }
  ]
}